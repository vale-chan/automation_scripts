{
 "cells": [
  {
   "cell_type": "markdown",
   "metadata": {},
   "source": [
    "# Sek I - Listen"
   ]
  },
  {
   "cell_type": "code",
   "execution_count": 1,
   "metadata": {},
   "outputs": [],
   "source": [
    "import pandas as pd\n",
    "import os\n",
    "import glob\n",
    "\n",
    "\n",
    "SKRIPT_PATH = os.getcwd()\n",
    "FILEFOLDER_PATH = \"\"\n",
    "\n",
    "# Dataentry variables\n",
    "ORGANISATION = \"\"\n",
    "SPRACHE = \"\"\n",
    "FUNKTION = \"\"\n",
    "BERUF = \"\"\n",
    "STUDIENGANG  =  \"\"\n",
    "ORT = \"\""
   ]
  },
  {
   "cell_type": "code",
   "execution_count": 2,
   "metadata": {},
   "outputs": [],
   "source": [
    "os.chdir(FILEFOLDER_PATH)\n",
    "path = os.getcwd()\n",
    "xlsx_files = glob.glob(os.path.join(path, \"*.xlsx\"))\n",
    "\n",
    "\n",
    "# loop over the list of xlsx files\n",
    "for file in xlsx_files:\n",
    "\n",
    "    worksheet = pd.read_excel(file, sheet_name=None, header=None)\n",
    "\n",
    "    for key in worksheet:\n",
    "        df = worksheet[key]\n",
    "\n",
    "        for index, row in df.iterrows():\n",
    "            if index != df.loc[df[0] == \"Name\"].index:\n",
    "                df.drop(index=index, inplace=True)\n",
    "            elif index == df.loc[df[0] == \"Name\"].index:\n",
    "                break\n",
    "\n",
    "        df = df.reset_index(drop=True)\n",
    "        df.columns = df.iloc[0]\n",
    "        df = df.drop([0], axis=0)\n",
    "        df = df.drop([\"Semester\"], axis=1)\n",
    "        df[\"Organisation\"] = ORGANISATION\n",
    "        df[\"Sprache\"] = SPRACHE\n",
    "        df[\"Funktion\"] = FUNKTION\n",
    "        df[\"Beruf\"] = BERUF\n",
    "        df[\"Studiengang\"] = STUDIENGANG\n",
    "        df[\"Ort\"] = ORT\n",
    "        df = df.rename(columns={\"Name\": \"Nachname\", \"Email-Adresse\": \"E-Mail\"})\n",
    "\n",
    "        df.to_excel(f\"{key}.xlsx\", index=False)\n",
    "\n",
    "os.chdir(SKRIPT_PATH)\n"
   ]
  },
  {
   "cell_type": "markdown",
   "metadata": {},
   "source": [
    "# KGPS - Listen"
   ]
  },
  {
   "cell_type": "code",
   "execution_count": 1,
   "metadata": {},
   "outputs": [],
   "source": [
    "import pandas as pd"
   ]
  },
  {
   "cell_type": "code",
   "execution_count": null,
   "metadata": {},
   "outputs": [],
   "source": [
    "# INPUT\n",
    "\n",
    "CURRENT_STUDY_YEAR =  # use full first number for study year: 23/24 --> 2023\n",
    "PATH_STUDENTLIST_RAW = \"\"\n",
    "COLUMNS_WANTED = [\"\"]\n",
    "ORGANISATION = \"\"\n",
    "SPRACHE = \"\"\n",
    "FUNKTION = \"\"\n",
    "BERUF = \"\"\n",
    "STUDIENGANG  =  \"\"\n",
    "ORT = \"\"\n"
   ]
  },
  {
   "cell_type": "code",
   "execution_count": 10,
   "metadata": {},
   "outputs": [],
   "source": [
    "# PRE-PROCESSING\n",
    "\n",
    "df_students_raw = pd.read_excel(PATH_STUDENTLIST_RAW)\n",
    "\n",
    "columns_raw = df_students_raw.columns.to_list()\n",
    "columns_to_remove = []\n",
    "\n",
    "for col in columns_raw:\n",
    "    if col not in (COLUMNS_WANTED):\n",
    "        columns_to_remove.append(col)\n",
    "\n",
    "\n",
    "df_students = df_students_raw.drop(columns_to_remove, axis=1)\n",
    "\n",
    "df_students.rename(columns={\"Name\": \"Nachname\",\n",
    "                   \"Mail_privat\": \"E-Mail\"}, inplace=True)\n",
    "\n",
    "df_students[\"Organisation\"] = ORGANISATION\n",
    "df_students[\"Sprache\"] = SPRACHE\n",
    "df_students[\"Funktion\"] = FUNKTION\n",
    "df_students[\"Beruf\"] = BERUF\n",
    "df_students[\"Studiengang\"] = STUDIENGANG\n",
    "df_students[\"Ort\"] = ORT\n"
   ]
  },
  {
   "cell_type": "code",
   "execution_count": 11,
   "metadata": {},
   "outputs": [],
   "source": [
    "# PROCESSING (creating new lists)\n",
    "\n",
    "\n",
    "students_grouped_by_studyyear = df_students.groupby([\"Studienjahrgang\"])\n",
    "\n",
    "studyyears = df_students[\"Studienjahrgang\"].dropna().unique().tolist()\n",
    "\n",
    "for year in studyyears:\n",
    "    if year > CURRENT_STUDY_YEAR:\n",
    "        continue\n",
    "\n",
    "    elif year == CURRENT_STUDY_YEAR:\n",
    "        df_students_by_studyyear = students_grouped_by_studyyear.get_group(year)\n",
    "        studyyear_grouped_by_letter = df_students_by_studyyear.groupby([\"Lerngruppe\"])\n",
    "        letters = df_students_by_studyyear[\"Lerngruppe\"].dropna().unique().tolist()\n",
    "\n",
    "        for letter in letters:\n",
    "            df_students_by_studyyear_and_letter = studyyear_grouped_by_letter.get_group(letter)\n",
    "            df_students_by_studyyear_and_letter = df_students_by_studyyear_and_letter.reset_index(drop=True)\n",
    "            \n",
    "            df_students_by_studyyear_and_letter.to_excel(f\"{year}{letter}.xlsx\", index=False)\n",
    "\n",
    "    else:\n",
    "        df_students_by_studyyear = students_grouped_by_studyyear.get_group(year)\n",
    "        studyyear_grouped_by_letter = df_students_by_studyyear.groupby([\"Lerngruppe klein\"])\n",
    "        letters = df_students_by_studyyear[\"Lerngruppe klein\"].dropna().unique().tolist()\n",
    "\n",
    "        for letter in letters:\n",
    "            df_students_by_studyyear_and_letter = studyyear_grouped_by_letter.get_group(letter)\n",
    "            df_students_by_studyyear_and_letter = df_students_by_studyyear_and_letter.reset_index(drop=True)\n",
    "\n",
    "            df_students_by_studyyear_and_letter.to_excel(f\"{year}{letter}.xlsx\", index=False)\n"
   ]
  }
 ],
 "metadata": {
  "kernelspec": {
   "display_name": "Python 3.12.1 ('workspace')",
   "language": "python",
   "name": "python3"
  },
  "language_info": {
   "codemirror_mode": {
    "name": "ipython",
    "version": 3
   },
   "file_extension": ".py",
   "mimetype": "text/x-python",
   "name": "python",
   "nbconvert_exporter": "python",
   "pygments_lexer": "ipython3",
   "version": "3.12.1"
  },
  "orig_nbformat": 4,
  "vscode": {
   "interpreter": {
    "hash": "b260c61d36a57cb59d6e4b6943b703164325d6f8e1d84816f8b6a1080d0215b3"
   }
  }
 },
 "nbformat": 4,
 "nbformat_minor": 2
}
